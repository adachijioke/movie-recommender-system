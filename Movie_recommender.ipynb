{
 "cells": [
  {
   "cell_type": "code",
   "execution_count": 1,
   "id": "9289a068",
   "metadata": {
    "_cell_guid": "b1076dfc-b9ad-4769-8c92-a6c4dae69d19",
    "_uuid": "8f2839f25d086af736a60e9eeb907d3b93b6e0e5",
    "execution": {
     "iopub.execute_input": "2024-06-22T00:36:40.454840Z",
     "iopub.status.busy": "2024-06-22T00:36:40.454476Z",
     "iopub.status.idle": "2024-06-22T00:36:41.284904Z",
     "shell.execute_reply": "2024-06-22T00:36:41.283717Z"
    },
    "papermill": {
     "duration": 0.839307,
     "end_time": "2024-06-22T00:36:41.287961",
     "exception": false,
     "start_time": "2024-06-22T00:36:40.448654",
     "status": "completed"
    },
    "tags": []
   },
   "outputs": [
    {
     "name": "stdout",
     "output_type": "stream",
     "text": [
      "/kaggle/input/alx-movie-recommendation-project-2024/sample_submission.csv\n",
      "/kaggle/input/alx-movie-recommendation-project-2024/movies.csv\n",
      "/kaggle/input/alx-movie-recommendation-project-2024/imdb_data.csv\n",
      "/kaggle/input/alx-movie-recommendation-project-2024/genome_tags.csv\n",
      "/kaggle/input/alx-movie-recommendation-project-2024/genome_scores.csv\n",
      "/kaggle/input/alx-movie-recommendation-project-2024/train.csv\n",
      "/kaggle/input/alx-movie-recommendation-project-2024/test.csv\n",
      "/kaggle/input/alx-movie-recommendation-project-2024/tags.csv\n",
      "/kaggle/input/alx-movie-recommendation-project-2024/links.csv\n"
     ]
    }
   ],
   "source": [
    "# This Python 3 environment comes with many helpful analytics libraries installed\n",
    "# It is defined by the kaggle/python Docker image: https://github.com/kaggle/docker-python\n",
    "# For example, here's several helpful packages to load\n",
    "\n",
    "import numpy as np # linear algebra\n",
    "import pandas as pd # data processing, CSV file I/O (e.g. pd.read_csv)\n",
    "\n",
    "# Input data files are available in the read-only \"../input/\" directory\n",
    "# For example, running this (by clicking run or pressing Shift+Enter) will list all files under the input directory\n",
    "\n",
    "import os\n",
    "for dirname, _, filenames in os.walk('/kaggle/input'):\n",
    "    for filename in filenames:\n",
    "        print(os.path.join(dirname, filename))\n",
    "\n",
    "# You can write up to 20GB to the current directory (/kaggle/working/) that gets preserved as output when you create a version using \"Save & Run All\" \n",
    "# You can also write temporary files to /kaggle/temp/, but they won't be saved outside of the current session"
   ]
  },
  {
   "cell_type": "markdown",
   "id": "6c10a113",
   "metadata": {
    "papermill": {
     "duration": 0.003725,
     "end_time": "2024-06-22T00:36:41.295976",
     "exception": false,
     "start_time": "2024-06-22T00:36:41.292251",
     "status": "completed"
    },
    "tags": []
   },
   "source": [
    "<h3>Load Datasets</h3>"
   ]
  },
  {
   "cell_type": "code",
   "execution_count": 2,
   "id": "e0c7c595",
   "metadata": {
    "execution": {
     "iopub.execute_input": "2024-06-22T00:36:41.305826Z",
     "iopub.status.busy": "2024-06-22T00:36:41.305327Z",
     "iopub.status.idle": "2024-06-22T00:36:52.857266Z",
     "shell.execute_reply": "2024-06-22T00:36:52.856168Z"
    },
    "papermill": {
     "duration": 11.559739,
     "end_time": "2024-06-22T00:36:52.859823",
     "exception": false,
     "start_time": "2024-06-22T00:36:41.300084",
     "status": "completed"
    },
    "tags": []
   },
   "outputs": [],
   "source": [
    "\n",
    "train = pd.read_csv('/kaggle/input/alx-movie-recommendation-project-2024/train.csv')\n",
    "test = pd.read_csv('/kaggle/input/alx-movie-recommendation-project-2024/test.csv')\n",
    "submission = pd.read_csv('/kaggle/input/alx-movie-recommendation-project-2024/sample_submission.csv')"
   ]
  },
  {
   "cell_type": "markdown",
   "id": "0e1efb73",
   "metadata": {
    "papermill": {
     "duration": 0.003934,
     "end_time": "2024-06-22T00:36:52.868011",
     "exception": false,
     "start_time": "2024-06-22T00:36:52.864077",
     "status": "completed"
    },
    "tags": []
   },
   "source": [
    "<h3>Exploratory Data Analysis </h3>"
   ]
  },
  {
   "cell_type": "code",
   "execution_count": 3,
   "id": "3b616e99",
   "metadata": {
    "execution": {
     "iopub.execute_input": "2024-06-22T00:36:52.877434Z",
     "iopub.status.busy": "2024-06-22T00:36:52.877019Z",
     "iopub.status.idle": "2024-06-22T00:36:52.895554Z",
     "shell.execute_reply": "2024-06-22T00:36:52.894487Z"
    },
    "papermill": {
     "duration": 0.026117,
     "end_time": "2024-06-22T00:36:52.898050",
     "exception": false,
     "start_time": "2024-06-22T00:36:52.871933",
     "status": "completed"
    },
    "scrolled": true,
    "tags": []
   },
   "outputs": [
    {
     "name": "stdout",
     "output_type": "stream",
     "text": [
      "   userId  movieId  rating   timestamp\n",
      "0    5163    57669     4.0  1518349992\n",
      "1  106343        5     4.5  1206238739\n",
      "2  146790     5459     5.0  1076215539\n",
      "3  106362    32296     2.0  1423042565\n",
      "4    9041      366     3.0   833375837\n",
      "   userId  movieId\n",
      "0       1     2011\n",
      "1       1     4144\n",
      "2       1     5767\n",
      "3       1     6711\n",
      "4       1     7318\n"
     ]
    }
   ],
   "source": [
    "\n",
    "print(train.head())\n",
    "print(test.head())"
   ]
  },
  {
   "cell_type": "code",
   "execution_count": 4,
   "id": "341813fa",
   "metadata": {
    "execution": {
     "iopub.execute_input": "2024-06-22T00:36:52.907831Z",
     "iopub.status.busy": "2024-06-22T00:36:52.907475Z",
     "iopub.status.idle": "2024-06-22T00:36:52.932330Z",
     "shell.execute_reply": "2024-06-22T00:36:52.930989Z"
    },
    "papermill": {
     "duration": 0.03267,
     "end_time": "2024-06-22T00:36:52.934834",
     "exception": false,
     "start_time": "2024-06-22T00:36:52.902164",
     "status": "completed"
    },
    "tags": []
   },
   "outputs": [
    {
     "name": "stdout",
     "output_type": "stream",
     "text": [
      "<class 'pandas.core.frame.DataFrame'>\n",
      "RangeIndex: 10000038 entries, 0 to 10000037\n",
      "Data columns (total 4 columns):\n",
      " #   Column     Dtype  \n",
      "---  ------     -----  \n",
      " 0   userId     int64  \n",
      " 1   movieId    int64  \n",
      " 2   rating     float64\n",
      " 3   timestamp  int64  \n",
      "dtypes: float64(1), int64(3)\n",
      "memory usage: 305.2 MB\n"
     ]
    }
   ],
   "source": [
    "train.info()"
   ]
  },
  {
   "cell_type": "code",
   "execution_count": 5,
   "id": "a4af74aa",
   "metadata": {
    "execution": {
     "iopub.execute_input": "2024-06-22T00:36:52.945494Z",
     "iopub.status.busy": "2024-06-22T00:36:52.944395Z",
     "iopub.status.idle": "2024-06-22T00:36:52.996912Z",
     "shell.execute_reply": "2024-06-22T00:36:52.995754Z"
    },
    "papermill": {
     "duration": 0.060443,
     "end_time": "2024-06-22T00:36:52.999522",
     "exception": false,
     "start_time": "2024-06-22T00:36:52.939079",
     "status": "completed"
    },
    "tags": []
   },
   "outputs": [
    {
     "data": {
      "text/plain": [
       "userId       0\n",
       "movieId      0\n",
       "rating       0\n",
       "timestamp    0\n",
       "dtype: int64"
      ]
     },
     "execution_count": 5,
     "metadata": {},
     "output_type": "execute_result"
    }
   ],
   "source": [
    "train.isna().sum()"
   ]
  },
  {
   "cell_type": "markdown",
   "id": "a1ef155b",
   "metadata": {
    "papermill": {
     "duration": 0.004396,
     "end_time": "2024-06-22T00:36:53.008236",
     "exception": false,
     "start_time": "2024-06-22T00:36:53.003840",
     "status": "completed"
    },
    "tags": []
   },
   "source": [
    "<h3>Collaborative Filtering</h3>"
   ]
  },
  {
   "cell_type": "code",
   "execution_count": 6,
   "id": "ebe20b14",
   "metadata": {
    "execution": {
     "iopub.execute_input": "2024-06-22T00:36:53.018550Z",
     "iopub.status.busy": "2024-06-22T00:36:53.018137Z",
     "iopub.status.idle": "2024-06-22T00:36:53.136860Z",
     "shell.execute_reply": "2024-06-22T00:36:53.135689Z"
    },
    "papermill": {
     "duration": 0.12677,
     "end_time": "2024-06-22T00:36:53.139422",
     "exception": false,
     "start_time": "2024-06-22T00:36:53.012652",
     "status": "completed"
    },
    "tags": []
   },
   "outputs": [],
   "source": [
    "from surprise import SVD,Dataset,Reader,accuracy\n",
    "from tqdm import tqdm"
   ]
  },
  {
   "cell_type": "code",
   "execution_count": 7,
   "id": "dc148d34",
   "metadata": {
    "execution": {
     "iopub.execute_input": "2024-06-22T00:36:53.150057Z",
     "iopub.status.busy": "2024-06-22T00:36:53.149049Z",
     "iopub.status.idle": "2024-06-22T00:37:25.033206Z",
     "shell.execute_reply": "2024-06-22T00:37:25.032180Z"
    },
    "papermill": {
     "duration": 31.892073,
     "end_time": "2024-06-22T00:37:25.035708",
     "exception": false,
     "start_time": "2024-06-22T00:36:53.143635",
     "status": "completed"
    },
    "tags": []
   },
   "outputs": [],
   "source": [
    "#train_df\n",
    "reader = Reader(rating_scale=(1,5))\n",
    "train_data = Dataset.load_from_df(train[['userId','movieId','rating']],reader)\n",
    "train_set = train_data.build_full_trainset()"
   ]
  },
  {
   "cell_type": "code",
   "execution_count": 8,
   "id": "eec989f2",
   "metadata": {
    "execution": {
     "iopub.execute_input": "2024-06-22T00:37:25.045893Z",
     "iopub.status.busy": "2024-06-22T00:37:25.045547Z",
     "iopub.status.idle": "2024-06-22T00:41:12.159639Z",
     "shell.execute_reply": "2024-06-22T00:41:12.158598Z"
    },
    "papermill": {
     "duration": 227.126145,
     "end_time": "2024-06-22T00:41:12.166319",
     "exception": false,
     "start_time": "2024-06-22T00:37:25.040174",
     "status": "completed"
    },
    "tags": []
   },
   "outputs": [
    {
     "data": {
      "text/plain": [
       "<surprise.prediction_algorithms.matrix_factorization.SVD at 0x7d1900889ed0>"
      ]
     },
     "execution_count": 8,
     "metadata": {},
     "output_type": "execute_result"
    }
   ],
   "source": [
    "svd = SVD()\n",
    "svd.fit(train_set)\n",
    "\n",
    "# test_user_pred_pairs = list(zip(test['userId'],test['movieId']))\n",
    "# test_predict = [svd.predict(uid,mid).est for uid,mid in test_user_pred_pairs]\n",
    "\n",
    "# test['predicted_rating'] = test_predict\n",
    "# print(test.head())"
   ]
  },
  {
   "cell_type": "code",
   "execution_count": 9,
   "id": "9b1a0f90",
   "metadata": {
    "execution": {
     "iopub.execute_input": "2024-06-22T00:41:12.176469Z",
     "iopub.status.busy": "2024-06-22T00:41:12.176052Z",
     "iopub.status.idle": "2024-06-22T00:41:12.185801Z",
     "shell.execute_reply": "2024-06-22T00:41:12.184926Z"
    },
    "papermill": {
     "duration": 0.017536,
     "end_time": "2024-06-22T00:41:12.188126",
     "exception": false,
     "start_time": "2024-06-22T00:41:12.170590",
     "status": "completed"
    },
    "tags": []
   },
   "outputs": [],
   "source": [
    "def predict_in_batches(df, algo, batch_size=100000):\n",
    "    import pandas as pd\n",
    "    from tqdm import tqdm\n",
    "\n",
    "    num_rows = len(df)\n",
    "    num_batches = (num_rows // batch_size) + 1\n",
    "    start_index = 0\n",
    "\n",
    "    # List to store predictions\n",
    "    predictions_list = []\n",
    "\n",
    "    for batch_num in tqdm(range(num_batches), desc=\"Processing batches\"):\n",
    "        end_index = min(start_index + batch_size, num_rows)\n",
    "        batch_df = df.iloc[start_index:end_index].copy()  # Explicitly make a copy\n",
    "\n",
    "        # Generate predictions for the batch\n",
    "        batch_predictions = [algo.predict(user, movie).est for user, movie in zip(batch_df['userId'], batch_df['movieId'])]\n",
    "\n",
    "        # Add batch predictions to DataFrame\n",
    "        batch_df['rating'] = batch_predictions  # Changed from 'predict_ratings' to 'ratings'\n",
    "\n",
    "        # Append the batch DataFrame to the list\n",
    "        predictions_list.append(batch_df)\n",
    "\n",
    "        # Update the start index for the next batch\n",
    "        start_index = end_index\n",
    "\n",
    "        # Save intermediate submission file\n",
    "        submission_batch_df = batch_df[['userId', 'movieId', 'rating']].copy()  # Changed from 'predict_ratings' to 'ratings'\n",
    "        submission_batch_df['Id'] = submission_batch_df['userId'].astype(str) + '_' + submission_batch_df['movieId'].astype(str)\n",
    "        submission_batch_df = submission_batch_df[['Id', 'rating']]  # Changed from 'predict_ratings' to 'ratings'\n",
    "        submission_batch_df.to_csv('submission.csv', mode='a', index=False, header=batch_num == 0)\n",
    "        print(f\"Updated submission.csv with batch {batch_num + 1}/{num_batches}\")\n",
    "\n",
    "    # Concatenate all batches into a single DataFrame\n",
    "    predictions_df = pd.concat(predictions_list, ignore_index=True)\n",
    "\n",
    "    return predictions_df\n",
    "\n",
    "\n"
   ]
  },
  {
   "cell_type": "code",
   "execution_count": 10,
   "id": "6e6c83ba",
   "metadata": {
    "execution": {
     "iopub.execute_input": "2024-06-22T00:41:12.199577Z",
     "iopub.status.busy": "2024-06-22T00:41:12.199212Z",
     "iopub.status.idle": "2024-06-22T00:41:57.779797Z",
     "shell.execute_reply": "2024-06-22T00:41:57.778501Z"
    },
    "papermill": {
     "duration": 45.588608,
     "end_time": "2024-06-22T00:41:57.782224",
     "exception": false,
     "start_time": "2024-06-22T00:41:12.193616",
     "status": "completed"
    },
    "tags": []
   },
   "outputs": [
    {
     "name": "stderr",
     "output_type": "stream",
     "text": [
      "Processing batches:   2%|▏         | 1/51 [00:00<00:44,  1.11it/s]"
     ]
    },
    {
     "name": "stdout",
     "output_type": "stream",
     "text": [
      "Updated submission.csv with batch 1/51\n"
     ]
    },
    {
     "name": "stderr",
     "output_type": "stream",
     "text": [
      "Processing batches:   4%|▍         | 2/51 [00:01<00:43,  1.12it/s]"
     ]
    },
    {
     "name": "stdout",
     "output_type": "stream",
     "text": [
      "Updated submission.csv with batch 2/51\n"
     ]
    },
    {
     "name": "stderr",
     "output_type": "stream",
     "text": [
      "Processing batches:   6%|▌         | 3/51 [00:02<00:43,  1.11it/s]"
     ]
    },
    {
     "name": "stdout",
     "output_type": "stream",
     "text": [
      "Updated submission.csv with batch 3/51\n"
     ]
    },
    {
     "name": "stderr",
     "output_type": "stream",
     "text": [
      "Processing batches:   8%|▊         | 4/51 [00:03<00:42,  1.11it/s]"
     ]
    },
    {
     "name": "stdout",
     "output_type": "stream",
     "text": [
      "Updated submission.csv with batch 4/51\n"
     ]
    },
    {
     "name": "stderr",
     "output_type": "stream",
     "text": [
      "Processing batches:  10%|▉         | 5/51 [00:04<00:41,  1.11it/s]"
     ]
    },
    {
     "name": "stdout",
     "output_type": "stream",
     "text": [
      "Updated submission.csv with batch 5/51\n"
     ]
    },
    {
     "name": "stderr",
     "output_type": "stream",
     "text": [
      "Processing batches:  12%|█▏        | 6/51 [00:05<00:40,  1.10it/s]"
     ]
    },
    {
     "name": "stdout",
     "output_type": "stream",
     "text": [
      "Updated submission.csv with batch 6/51\n"
     ]
    },
    {
     "name": "stderr",
     "output_type": "stream",
     "text": [
      "Processing batches:  14%|█▎        | 7/51 [00:06<00:39,  1.11it/s]"
     ]
    },
    {
     "name": "stdout",
     "output_type": "stream",
     "text": [
      "Updated submission.csv with batch 7/51\n"
     ]
    },
    {
     "name": "stderr",
     "output_type": "stream",
     "text": [
      "Processing batches:  16%|█▌        | 8/51 [00:07<00:38,  1.11it/s]"
     ]
    },
    {
     "name": "stdout",
     "output_type": "stream",
     "text": [
      "Updated submission.csv with batch 8/51\n"
     ]
    },
    {
     "name": "stderr",
     "output_type": "stream",
     "text": [
      "Processing batches:  18%|█▊        | 9/51 [00:08<00:37,  1.11it/s]"
     ]
    },
    {
     "name": "stdout",
     "output_type": "stream",
     "text": [
      "Updated submission.csv with batch 9/51\n"
     ]
    },
    {
     "name": "stderr",
     "output_type": "stream",
     "text": [
      "Processing batches:  20%|█▉        | 10/51 [00:09<00:36,  1.11it/s]"
     ]
    },
    {
     "name": "stdout",
     "output_type": "stream",
     "text": [
      "Updated submission.csv with batch 10/51\n"
     ]
    },
    {
     "name": "stderr",
     "output_type": "stream",
     "text": [
      "Processing batches:  22%|██▏       | 11/51 [00:09<00:35,  1.11it/s]"
     ]
    },
    {
     "name": "stdout",
     "output_type": "stream",
     "text": [
      "Updated submission.csv with batch 11/51\n"
     ]
    },
    {
     "name": "stderr",
     "output_type": "stream",
     "text": [
      "Processing batches:  24%|██▎       | 12/51 [00:10<00:34,  1.12it/s]"
     ]
    },
    {
     "name": "stdout",
     "output_type": "stream",
     "text": [
      "Updated submission.csv with batch 12/51\n"
     ]
    },
    {
     "name": "stderr",
     "output_type": "stream",
     "text": [
      "Processing batches:  25%|██▌       | 13/51 [00:11<00:33,  1.12it/s]"
     ]
    },
    {
     "name": "stdout",
     "output_type": "stream",
     "text": [
      "Updated submission.csv with batch 13/51\n"
     ]
    },
    {
     "name": "stderr",
     "output_type": "stream",
     "text": [
      "Processing batches:  27%|██▋       | 14/51 [00:12<00:33,  1.12it/s]"
     ]
    },
    {
     "name": "stdout",
     "output_type": "stream",
     "text": [
      "Updated submission.csv with batch 14/51\n"
     ]
    },
    {
     "name": "stderr",
     "output_type": "stream",
     "text": [
      "Processing batches:  29%|██▉       | 15/51 [00:13<00:32,  1.12it/s]"
     ]
    },
    {
     "name": "stdout",
     "output_type": "stream",
     "text": [
      "Updated submission.csv with batch 15/51\n"
     ]
    },
    {
     "name": "stderr",
     "output_type": "stream",
     "text": [
      "Processing batches:  31%|███▏      | 16/51 [00:14<00:31,  1.12it/s]"
     ]
    },
    {
     "name": "stdout",
     "output_type": "stream",
     "text": [
      "Updated submission.csv with batch 16/51\n"
     ]
    },
    {
     "name": "stderr",
     "output_type": "stream",
     "text": [
      "Processing batches:  33%|███▎      | 17/51 [00:15<00:30,  1.11it/s]"
     ]
    },
    {
     "name": "stdout",
     "output_type": "stream",
     "text": [
      "Updated submission.csv with batch 17/51\n"
     ]
    },
    {
     "name": "stderr",
     "output_type": "stream",
     "text": [
      "Processing batches:  35%|███▌      | 18/51 [00:16<00:29,  1.11it/s]"
     ]
    },
    {
     "name": "stdout",
     "output_type": "stream",
     "text": [
      "Updated submission.csv with batch 18/51\n"
     ]
    },
    {
     "name": "stderr",
     "output_type": "stream",
     "text": [
      "Processing batches:  37%|███▋      | 19/51 [00:17<00:28,  1.11it/s]"
     ]
    },
    {
     "name": "stdout",
     "output_type": "stream",
     "text": [
      "Updated submission.csv with batch 19/51\n"
     ]
    },
    {
     "name": "stderr",
     "output_type": "stream",
     "text": [
      "Processing batches:  39%|███▉      | 20/51 [00:17<00:27,  1.12it/s]"
     ]
    },
    {
     "name": "stdout",
     "output_type": "stream",
     "text": [
      "Updated submission.csv with batch 20/51\n"
     ]
    },
    {
     "name": "stderr",
     "output_type": "stream",
     "text": [
      "Processing batches:  41%|████      | 21/51 [00:18<00:26,  1.12it/s]"
     ]
    },
    {
     "name": "stdout",
     "output_type": "stream",
     "text": [
      "Updated submission.csv with batch 21/51\n"
     ]
    },
    {
     "name": "stderr",
     "output_type": "stream",
     "text": [
      "Processing batches:  43%|████▎     | 22/51 [00:19<00:26,  1.08it/s]"
     ]
    },
    {
     "name": "stdout",
     "output_type": "stream",
     "text": [
      "Updated submission.csv with batch 22/51\n"
     ]
    },
    {
     "name": "stderr",
     "output_type": "stream",
     "text": [
      "Processing batches:  45%|████▌     | 23/51 [00:20<00:25,  1.09it/s]"
     ]
    },
    {
     "name": "stdout",
     "output_type": "stream",
     "text": [
      "Updated submission.csv with batch 23/51\n"
     ]
    },
    {
     "name": "stderr",
     "output_type": "stream",
     "text": [
      "Processing batches:  47%|████▋     | 24/51 [00:21<00:24,  1.10it/s]"
     ]
    },
    {
     "name": "stdout",
     "output_type": "stream",
     "text": [
      "Updated submission.csv with batch 24/51\n"
     ]
    },
    {
     "name": "stderr",
     "output_type": "stream",
     "text": [
      "Processing batches:  49%|████▉     | 25/51 [00:22<00:23,  1.11it/s]"
     ]
    },
    {
     "name": "stdout",
     "output_type": "stream",
     "text": [
      "Updated submission.csv with batch 25/51\n"
     ]
    },
    {
     "name": "stderr",
     "output_type": "stream",
     "text": [
      "Processing batches:  51%|█████     | 26/51 [00:23<00:22,  1.11it/s]"
     ]
    },
    {
     "name": "stdout",
     "output_type": "stream",
     "text": [
      "Updated submission.csv with batch 26/51\n"
     ]
    },
    {
     "name": "stderr",
     "output_type": "stream",
     "text": [
      "Processing batches:  53%|█████▎    | 27/51 [00:24<00:21,  1.11it/s]"
     ]
    },
    {
     "name": "stdout",
     "output_type": "stream",
     "text": [
      "Updated submission.csv with batch 27/51\n"
     ]
    },
    {
     "name": "stderr",
     "output_type": "stream",
     "text": [
      "Processing batches:  55%|█████▍    | 28/51 [00:25<00:20,  1.10it/s]"
     ]
    },
    {
     "name": "stdout",
     "output_type": "stream",
     "text": [
      "Updated submission.csv with batch 28/51\n"
     ]
    },
    {
     "name": "stderr",
     "output_type": "stream",
     "text": [
      "Processing batches:  57%|█████▋    | 29/51 [00:26<00:19,  1.10it/s]"
     ]
    },
    {
     "name": "stdout",
     "output_type": "stream",
     "text": [
      "Updated submission.csv with batch 29/51\n"
     ]
    },
    {
     "name": "stderr",
     "output_type": "stream",
     "text": [
      "Processing batches:  59%|█████▉    | 30/51 [00:27<00:18,  1.11it/s]"
     ]
    },
    {
     "name": "stdout",
     "output_type": "stream",
     "text": [
      "Updated submission.csv with batch 30/51\n"
     ]
    },
    {
     "name": "stderr",
     "output_type": "stream",
     "text": [
      "Processing batches:  61%|██████    | 31/51 [00:27<00:18,  1.10it/s]"
     ]
    },
    {
     "name": "stdout",
     "output_type": "stream",
     "text": [
      "Updated submission.csv with batch 31/51\n"
     ]
    },
    {
     "name": "stderr",
     "output_type": "stream",
     "text": [
      "Processing batches:  63%|██████▎   | 32/51 [00:28<00:17,  1.09it/s]"
     ]
    },
    {
     "name": "stdout",
     "output_type": "stream",
     "text": [
      "Updated submission.csv with batch 32/51\n"
     ]
    },
    {
     "name": "stderr",
     "output_type": "stream",
     "text": [
      "Processing batches:  65%|██████▍   | 33/51 [00:29<00:16,  1.09it/s]"
     ]
    },
    {
     "name": "stdout",
     "output_type": "stream",
     "text": [
      "Updated submission.csv with batch 33/51\n"
     ]
    },
    {
     "name": "stderr",
     "output_type": "stream",
     "text": [
      "Processing batches:  67%|██████▋   | 34/51 [00:30<00:15,  1.09it/s]"
     ]
    },
    {
     "name": "stdout",
     "output_type": "stream",
     "text": [
      "Updated submission.csv with batch 34/51\n"
     ]
    },
    {
     "name": "stderr",
     "output_type": "stream",
     "text": [
      "Processing batches:  69%|██████▊   | 35/51 [00:31<00:14,  1.07it/s]"
     ]
    },
    {
     "name": "stdout",
     "output_type": "stream",
     "text": [
      "Updated submission.csv with batch 35/51\n"
     ]
    },
    {
     "name": "stderr",
     "output_type": "stream",
     "text": [
      "Processing batches:  71%|███████   | 36/51 [00:32<00:13,  1.08it/s]"
     ]
    },
    {
     "name": "stdout",
     "output_type": "stream",
     "text": [
      "Updated submission.csv with batch 36/51\n"
     ]
    },
    {
     "name": "stderr",
     "output_type": "stream",
     "text": [
      "Processing batches:  73%|███████▎  | 37/51 [00:33<00:12,  1.08it/s]"
     ]
    },
    {
     "name": "stdout",
     "output_type": "stream",
     "text": [
      "Updated submission.csv with batch 37/51\n"
     ]
    },
    {
     "name": "stderr",
     "output_type": "stream",
     "text": [
      "Processing batches:  75%|███████▍  | 38/51 [00:34<00:11,  1.08it/s]"
     ]
    },
    {
     "name": "stdout",
     "output_type": "stream",
     "text": [
      "Updated submission.csv with batch 38/51\n"
     ]
    },
    {
     "name": "stderr",
     "output_type": "stream",
     "text": [
      "Processing batches:  76%|███████▋  | 39/51 [00:35<00:11,  1.08it/s]"
     ]
    },
    {
     "name": "stdout",
     "output_type": "stream",
     "text": [
      "Updated submission.csv with batch 39/51\n"
     ]
    },
    {
     "name": "stderr",
     "output_type": "stream",
     "text": [
      "Processing batches:  78%|███████▊  | 40/51 [00:36<00:10,  1.09it/s]"
     ]
    },
    {
     "name": "stdout",
     "output_type": "stream",
     "text": [
      "Updated submission.csv with batch 40/51\n"
     ]
    },
    {
     "name": "stderr",
     "output_type": "stream",
     "text": [
      "Processing batches:  80%|████████  | 41/51 [00:37<00:09,  1.08it/s]"
     ]
    },
    {
     "name": "stdout",
     "output_type": "stream",
     "text": [
      "Updated submission.csv with batch 41/51\n"
     ]
    },
    {
     "name": "stderr",
     "output_type": "stream",
     "text": [
      "Processing batches:  82%|████████▏ | 42/51 [00:38<00:08,  1.08it/s]"
     ]
    },
    {
     "name": "stdout",
     "output_type": "stream",
     "text": [
      "Updated submission.csv with batch 42/51\n"
     ]
    },
    {
     "name": "stderr",
     "output_type": "stream",
     "text": [
      "Processing batches:  84%|████████▍ | 43/51 [00:39<00:07,  1.09it/s]"
     ]
    },
    {
     "name": "stdout",
     "output_type": "stream",
     "text": [
      "Updated submission.csv with batch 43/51\n"
     ]
    },
    {
     "name": "stderr",
     "output_type": "stream",
     "text": [
      "Processing batches:  86%|████████▋ | 44/51 [00:39<00:06,  1.09it/s]"
     ]
    },
    {
     "name": "stdout",
     "output_type": "stream",
     "text": [
      "Updated submission.csv with batch 44/51\n"
     ]
    },
    {
     "name": "stderr",
     "output_type": "stream",
     "text": [
      "Processing batches:  88%|████████▊ | 45/51 [00:40<00:05,  1.09it/s]"
     ]
    },
    {
     "name": "stdout",
     "output_type": "stream",
     "text": [
      "Updated submission.csv with batch 45/51\n"
     ]
    },
    {
     "name": "stderr",
     "output_type": "stream",
     "text": [
      "Processing batches:  90%|█████████ | 46/51 [00:41<00:04,  1.10it/s]"
     ]
    },
    {
     "name": "stdout",
     "output_type": "stream",
     "text": [
      "Updated submission.csv with batch 46/51\n"
     ]
    },
    {
     "name": "stderr",
     "output_type": "stream",
     "text": [
      "Processing batches:  92%|█████████▏| 47/51 [00:42<00:03,  1.10it/s]"
     ]
    },
    {
     "name": "stdout",
     "output_type": "stream",
     "text": [
      "Updated submission.csv with batch 47/51\n"
     ]
    },
    {
     "name": "stderr",
     "output_type": "stream",
     "text": [
      "Processing batches:  94%|█████████▍| 48/51 [00:43<00:02,  1.10it/s]"
     ]
    },
    {
     "name": "stdout",
     "output_type": "stream",
     "text": [
      "Updated submission.csv with batch 48/51\n"
     ]
    },
    {
     "name": "stderr",
     "output_type": "stream",
     "text": [
      "Processing batches:  96%|█████████▌| 49/51 [00:44<00:01,  1.09it/s]"
     ]
    },
    {
     "name": "stdout",
     "output_type": "stream",
     "text": [
      "Updated submission.csv with batch 49/51\n"
     ]
    },
    {
     "name": "stderr",
     "output_type": "stream",
     "text": [
      "Processing batches: 100%|██████████| 51/51 [00:45<00:00,  1.12it/s]"
     ]
    },
    {
     "name": "stdout",
     "output_type": "stream",
     "text": [
      "Updated submission.csv with batch 50/51\n",
      "Updated submission.csv with batch 51/51\n"
     ]
    },
    {
     "name": "stderr",
     "output_type": "stream",
     "text": [
      "\n"
     ]
    },
    {
     "data": {
      "text/html": [
       "<div>\n",
       "<style scoped>\n",
       "    .dataframe tbody tr th:only-of-type {\n",
       "        vertical-align: middle;\n",
       "    }\n",
       "\n",
       "    .dataframe tbody tr th {\n",
       "        vertical-align: top;\n",
       "    }\n",
       "\n",
       "    .dataframe thead th {\n",
       "        text-align: right;\n",
       "    }\n",
       "</style>\n",
       "<table border=\"1\" class=\"dataframe\">\n",
       "  <thead>\n",
       "    <tr style=\"text-align: right;\">\n",
       "      <th></th>\n",
       "      <th>userId</th>\n",
       "      <th>movieId</th>\n",
       "      <th>rating</th>\n",
       "    </tr>\n",
       "  </thead>\n",
       "  <tbody>\n",
       "    <tr>\n",
       "      <th>0</th>\n",
       "      <td>1</td>\n",
       "      <td>2011</td>\n",
       "      <td>3.613644</td>\n",
       "    </tr>\n",
       "    <tr>\n",
       "      <th>1</th>\n",
       "      <td>1</td>\n",
       "      <td>4144</td>\n",
       "      <td>4.093794</td>\n",
       "    </tr>\n",
       "    <tr>\n",
       "      <th>2</th>\n",
       "      <td>1</td>\n",
       "      <td>5767</td>\n",
       "      <td>3.530623</td>\n",
       "    </tr>\n",
       "    <tr>\n",
       "      <th>3</th>\n",
       "      <td>1</td>\n",
       "      <td>6711</td>\n",
       "      <td>3.808168</td>\n",
       "    </tr>\n",
       "    <tr>\n",
       "      <th>4</th>\n",
       "      <td>1</td>\n",
       "      <td>7318</td>\n",
       "      <td>3.326429</td>\n",
       "    </tr>\n",
       "  </tbody>\n",
       "</table>\n",
       "</div>"
      ],
      "text/plain": [
       "   userId  movieId    rating\n",
       "0       1     2011  3.613644\n",
       "1       1     4144  4.093794\n",
       "2       1     5767  3.530623\n",
       "3       1     6711  3.808168\n",
       "4       1     7318  3.326429"
      ]
     },
     "execution_count": 10,
     "metadata": {},
     "output_type": "execute_result"
    }
   ],
   "source": [
    "# test_subset = test.sample(n=1000,random_state=42)\n",
    "predictions_df = predict_in_batches(test,svd)\n",
    "predictions_df.head()"
   ]
  },
  {
   "cell_type": "code",
   "execution_count": null,
   "id": "ebd3102d",
   "metadata": {
    "papermill": {
     "duration": 0.011682,
     "end_time": "2024-06-22T00:41:57.805530",
     "exception": false,
     "start_time": "2024-06-22T00:41:57.793848",
     "status": "completed"
    },
    "tags": []
   },
   "outputs": [],
   "source": []
  }
 ],
 "metadata": {
  "kaggle": {
   "accelerator": "none",
   "dataSources": [
    {
     "databundleVersionId": 8778365,
     "sourceId": 81285,
     "sourceType": "competition"
    }
   ],
   "dockerImageVersionId": 30732,
   "isGpuEnabled": false,
   "isInternetEnabled": false,
   "language": "python",
   "sourceType": "notebook"
  },
  "kernelspec": {
   "display_name": "Python 3 (ipykernel)",
   "language": "python",
   "name": "python3"
  },
  "language_info": {
   "codemirror_mode": {
    "name": "ipython",
    "version": 3
   },
   "file_extension": ".py",
   "mimetype": "text/x-python",
   "name": "python",
   "nbconvert_exporter": "python",
   "pygments_lexer": "ipython3",
   "version": "3.12.3"
  },
  "papermill": {
   "default_parameters": {},
   "duration": 322.907746,
   "end_time": "2024-06-22T00:42:00.538906",
   "environment_variables": {},
   "exception": null,
   "input_path": "__notebook__.ipynb",
   "output_path": "__notebook__.ipynb",
   "parameters": {},
   "start_time": "2024-06-22T00:36:37.631160",
   "version": "2.5.0"
  }
 },
 "nbformat": 4,
 "nbformat_minor": 5
}
